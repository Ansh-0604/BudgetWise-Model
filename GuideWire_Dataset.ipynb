{
  "nbformat": 4,
  "nbformat_minor": 0,
  "metadata": {
    "colab": {
      "provenance": [],
      "authorship_tag": "ABX9TyOqp2XmHh2y3H/1vPh7LxUk",
      "include_colab_link": true
    },
    "kernelspec": {
      "name": "python3",
      "display_name": "Python 3"
    },
    "language_info": {
      "name": "python"
    }
  },
  "cells": [
    {
      "cell_type": "markdown",
      "metadata": {
        "id": "view-in-github",
        "colab_type": "text"
      },
      "source": [
        "<a href=\"https://colab.research.google.com/github/Np2525/BudgetWise-Model/blob/main/GuideWire_Dataset.ipynb\" target=\"_parent\"><img src=\"https://colab.research.google.com/assets/colab-badge.svg\" alt=\"Open In Colab\"/></a>"
      ]
    },
    {
      "cell_type": "code",
      "execution_count": 1,
      "metadata": {
        "colab": {
          "base_uri": "https://localhost:8080/"
        },
        "id": "Ug_BfAaCVjbE",
        "outputId": "640f14d2-90db-4bf9-cf94-737d802cf6e5"
      },
      "outputs": [
        {
          "output_type": "execute_result",
          "data": {
            "text/plain": [
              "['Horizontal Scaling in Kubernetes Dataset Using Artificial Neural Networks for Load Forecasting']"
            ]
          },
          "metadata": {},
          "execution_count": 1
        }
      ],
      "source": [
        "import zipfile\n",
        "import os\n",
        "\n",
        "zip_path = \"/content/Horizontal Scaling in Kubernetes Dataset Using Artificial Neural Networks for Load Forecasting.zip\"  # Update with your file path\n",
        "extract_path = \"/content/extracted_data\"\n",
        "\n",
        "with zipfile.ZipFile(zip_path, 'r') as zip_ref:\n",
        "    zip_ref.extractall(extract_path)\n",
        "\n",
        "# List extracted files\n",
        "os.listdir(extract_path)\n"
      ]
    },
    {
      "cell_type": "code",
      "source": [
        "import pandas as pd\n",
        "import numpy as np\n"
      ],
      "metadata": {
        "id": "lqCUL2T9a50D"
      },
      "execution_count": 7,
      "outputs": []
    },
    {
      "cell_type": "code",
      "source": [
        "# Define file paths\n",
        "jmeter_path = \"/content/extracted_data/Horizontal Scaling in Kubernetes Dataset Using Artificial Neural Networks for Load Forecasting/TestJMeterData.csv\"\n",
        "k8s_path = \"/content/extracted_data/Horizontal Scaling in Kubernetes Dataset Using Artificial Neural Networks for Load Forecasting/TestK8sData.csv\"\n",
        "train_path = \"/content/extracted_data/Horizontal Scaling in Kubernetes Dataset Using Artificial Neural Networks for Load Forecasting/TrainData.csv\"\n",
        "\n",
        "# Load datasets\n",
        "df_jmeter = pd.read_csv(jmeter_path)\n",
        "df_k8s = pd.read_csv(k8s_path)\n",
        "df_train = pd.read_csv(train_path)\n",
        "\n",
        "# Show dataset summaries\n",
        "print(\"JMeter Data Sample:\\n\", df_jmeter.head(), \"\\n\")\n",
        "print(\"Kubernetes Data Sample:\\n\", df_k8s.head(), \"\\n\")\n",
        "print(\"Training Data Sample:\\n\", df_train.head(), \"\\n\")\n"
      ],
      "metadata": {
        "colab": {
          "base_uri": "https://localhost:8080/"
        },
        "id": "2VffBXVEa8Ju",
        "outputId": "02aea9cc-6386-47fc-d31c-2a1809d3f655"
      },
      "execution_count": 8,
      "outputs": [
        {
          "output_type": "stream",
          "name": "stdout",
          "text": [
            "JMeter Data Sample:\n",
            "                  timeStamp  elapsed         label  responseCode  \\\n",
            "0  24-07-2023 22:13:10.914      709  HTTP Request         200.0   \n",
            "1  24-07-2023 22:13:12.579        9  HTTP Request         200.0   \n",
            "2  24-07-2023 22:13:14.703        4  HTTP Request         200.0   \n",
            "3  24-07-2023 22:13:15.887        4  HTTP Request         200.0   \n",
            "4  24-07-2023 22:13:16.390        4  HTTP Request         200.0   \n",
            "\n",
            "  responseMessage                   threadName dataType  success  bytes  \\\n",
            "0              OK  Open Model Thread Group 1-1     text     True    201   \n",
            "1              OK  Open Model Thread Group 1-2     text     True    201   \n",
            "2              OK  Open Model Thread Group 1-3     text     True    201   \n",
            "3              OK  Open Model Thread Group 1-4     text     True    201   \n",
            "4              OK  Open Model Thread Group 1-5     text     True    201   \n",
            "\n",
            "   sentBytes  ...  ErrorCount   Hostname IdleTime  Connect  InitialPodsNumber  \\\n",
            "0        146  ...           0  lg-server        0       15                  1   \n",
            "1        146  ...           0  lg-server        0        1                  1   \n",
            "2        146  ...           0  lg-server        0        1                  1   \n",
            "3        146  ...           0  lg-server        0        1                  1   \n",
            "4        146  ...           0  lg-server        0        1                  1   \n",
            "\n",
            "   StressUpRate Experiment  Type  Duration  CPUThreshold  \n",
            "0             5          1   HPA  00:00:00            10  \n",
            "1             5          1   HPA  00:00:01            10  \n",
            "2             5          1   HPA  00:00:03            10  \n",
            "3             5          1   HPA  00:00:04            10  \n",
            "4             5          1   HPA  00:00:05            10  \n",
            "\n",
            "[5 rows x 25 columns] \n",
            "\n",
            "Kubernetes Data Sample:\n",
            "               Timestamp        CPU  PackRecv  PodsNumber  Duration  \\\n",
            "0  24-Jul-2023 22:13:16   0.476825  0.000000           1  00:00:00   \n",
            "1  24-Jul-2023 22:13:18   0.476825  2.356443           1  00:00:02   \n",
            "2  24-Jul-2023 22:13:20   0.476825  2.356443           1  00:00:04   \n",
            "3  24-Jul-2023 22:13:22  10.677100  2.356443           1  00:00:06   \n",
            "4  24-Jul-2023 22:13:24  10.677100  2.356443           1  00:00:08   \n",
            "\n",
            "   InitialPodsNumber  StressUpRate  Experiment Type  CPUThreshold  \n",
            "0                  1             5           1  HPA            10  \n",
            "1                  1             5           1  HPA            10  \n",
            "2                  1             5           1  HPA            10  \n",
            "3                  1             5           1  HPA            10  \n",
            "4                  1             5           1  HPA            10   \n",
            "\n",
            "Training Data Sample:\n",
            "    CPU_Mean  PackRecv_Mean  PodsNumber_Mean  StressRate_Mean\n",
            "0  1.734911       0.568787               10                1\n",
            "1  1.829631       0.551981               11                1\n",
            "2  1.856704       0.478015               12                1\n",
            "3  1.632997       0.432264               13                1\n",
            "4  1.747257       0.401011               14                1 \n",
            "\n"
          ]
        }
      ]
    },
    {
      "cell_type": "code",
      "source": [
        "# Convert JMeter timestamp\n",
        "df_jmeter['timeStamp'] = pd.to_datetime(df_jmeter['timeStamp'], errors='coerce')\n",
        "\n",
        "# Convert Kubernetes timestamp\n",
        "df_k8s.rename(columns={'Timestamp': 'timeStamp'}, inplace=True)  # Rename for merging\n",
        "df_k8s['timeStamp'] = pd.to_datetime(df_k8s['timeStamp'], errors='coerce')\n",
        "\n",
        "# Sort data by timestamps\n",
        "df_jmeter = df_jmeter.sort_values(by='timeStamp')\n",
        "df_k8s = df_k8s.sort_values(by='timeStamp')\n"
      ],
      "metadata": {
        "colab": {
          "base_uri": "https://localhost:8080/"
        },
        "id": "4sQ1wIP8bEPf",
        "outputId": "533db71f-7ec4-48d2-cded-cd4333b94c35"
      },
      "execution_count": 9,
      "outputs": [
        {
          "output_type": "stream",
          "name": "stderr",
          "text": [
            "<ipython-input-9-8da4fe2e70ca>:2: UserWarning: Parsing dates in %d-%m-%Y %H:%M:%S.%f format when dayfirst=False (the default) was specified. Pass `dayfirst=True` or specify a format to silence this warning.\n",
            "  df_jmeter['timeStamp'] = pd.to_datetime(df_jmeter['timeStamp'], errors='coerce')\n"
          ]
        }
      ]
    },
    {
      "cell_type": "code",
      "source": [
        "# Round timestamps to the nearest second for better merging\n",
        "df_jmeter['timeStamp'] = df_jmeter['timeStamp'].dt.round('S')\n",
        "df_k8s['timeStamp'] = df_k8s['timeStamp'].dt.round('S')\n",
        "\n",
        "# Merge datasets on timeStamp\n",
        "df_merged = pd.merge_asof(df_jmeter, df_k8s, on=\"timeStamp\", direction='nearest')\n",
        "\n",
        "# Show merged data\n",
        "print(\"Merged Dataset Sample:\\n\", df_merged.head())\n"
      ],
      "metadata": {
        "colab": {
          "base_uri": "https://localhost:8080/"
        },
        "id": "kvb_D2oabIO8",
        "outputId": "09bcedaf-8ce7-415b-eef3-b324ace454d1"
      },
      "execution_count": 10,
      "outputs": [
        {
          "output_type": "stream",
          "name": "stdout",
          "text": [
            "Merged Dataset Sample:\n",
            "             timeStamp  elapsed         label  responseCode responseMessage  \\\n",
            "0 2023-07-24 15:18:03      914  HTTP Request         200.0              OK   \n",
            "1 2023-07-24 15:18:03      800  HTTP Request         200.0              OK   \n",
            "2 2023-07-24 15:18:03       46  HTTP Request         200.0              OK   \n",
            "3 2023-07-24 15:18:04      108  HTTP Request         200.0              OK   \n",
            "4 2023-07-24 15:18:04        4  HTTP Request         200.0              OK   \n",
            "\n",
            "                    threadName dataType  success  bytes  sentBytes  ...  \\\n",
            "0  Open Model Thread Group 1-1     text     True    201        146  ...   \n",
            "1  Open Model Thread Group 1-2     text     True    201        146  ...   \n",
            "2  Open Model Thread Group 1-3     text     True    201        146  ...   \n",
            "3  Open Model Thread Group 1-4     text     True    201        146  ...   \n",
            "4  Open Model Thread Group 1-5     text     True    201        146  ...   \n",
            "\n",
            "   CPUThreshold_x       CPU  PackRecv  PodsNumber  Duration_y  \\\n",
            "0               0  0.532484  0.512426           1    00:00:00   \n",
            "1               0  0.532484  0.512426           1    00:00:00   \n",
            "2               0  0.532484  0.512426           1    00:00:00   \n",
            "3               0  0.532484  0.512426           1    00:00:00   \n",
            "4               0  0.532484  0.512426           1    00:00:00   \n",
            "\n",
            "   InitialPodsNumber_y StressUpRate_y  Experiment_y  Type_y  CPUThreshold_y  \n",
            "0                    1              5             1     ANN               0  \n",
            "1                    1              5             1     ANN               0  \n",
            "2                    1              5             1     ANN               0  \n",
            "3                    1              5             1     ANN               0  \n",
            "4                    1              5             1     ANN               0  \n",
            "\n",
            "[5 rows x 34 columns]\n"
          ]
        },
        {
          "output_type": "stream",
          "name": "stderr",
          "text": [
            "<ipython-input-10-71810aafcd45>:2: FutureWarning: 'S' is deprecated and will be removed in a future version, please use 's' instead.\n",
            "  df_jmeter['timeStamp'] = df_jmeter['timeStamp'].dt.round('S')\n",
            "<ipython-input-10-71810aafcd45>:3: FutureWarning: 'S' is deprecated and will be removed in a future version, please use 's' instead.\n",
            "  df_k8s['timeStamp'] = df_k8s['timeStamp'].dt.round('S')\n"
          ]
        }
      ]
    },
    {
      "cell_type": "code",
      "source": [
        "df_merged = pd.merge_asof(\n",
        "    df_jmeter.sort_values(\"timeStamp\"),\n",
        "    df_k8s.sort_values(\"timeStamp\"),\n",
        "    on=\"timeStamp\",\n",
        "    direction=\"nearest\"  # Finds the closest matching timestamp\n",
        ")\n"
      ],
      "metadata": {
        "id": "THVszbcKbNbx"
      },
      "execution_count": 15,
      "outputs": []
    },
    {
      "cell_type": "code",
      "source": [
        "print(\"Merged Data Columns:\\n\", df_merged.columns)\n"
      ],
      "metadata": {
        "colab": {
          "base_uri": "https://localhost:8080/"
        },
        "id": "kJb9Bjrrbui-",
        "outputId": "a4e1eecf-f156-4e2b-c558-f5723e62ff00"
      },
      "execution_count": 16,
      "outputs": [
        {
          "output_type": "stream",
          "name": "stdout",
          "text": [
            "Merged Data Columns:\n",
            " Index(['timeStamp', 'elapsed', 'label', 'responseCode', 'responseMessage',\n",
            "       'threadName', 'dataType', 'success', 'bytes', 'sentBytes', 'grpThreads',\n",
            "       'allThreads', 'URL', 'Latency', 'SampleCount', 'ErrorCount', 'Hostname',\n",
            "       'IdleTime', 'Connect', 'InitialPodsNumber_x', 'StressUpRate_x',\n",
            "       'Experiment_x', 'Type_x', 'Duration_x', 'CPUThreshold_x', 'CPU',\n",
            "       'PackRecv', 'PodsNumber', 'Duration_y', 'InitialPodsNumber_y',\n",
            "       'StressUpRate_y', 'Experiment_y', 'Type_y', 'CPUThreshold_y'],\n",
            "      dtype='object')\n"
          ]
        }
      ]
    },
    {
      "cell_type": "code",
      "source": [
        "df_jmeter.columns = df_jmeter.columns.str.strip()\n",
        "df_k8s.columns = df_k8s.columns.str.strip()\n"
      ],
      "metadata": {
        "id": "vyrmu__2bwhU"
      },
      "execution_count": 19,
      "outputs": []
    },
    {
      "cell_type": "code",
      "source": [
        "df_merged = pd.merge_asof(\n",
        "    df_jmeter.sort_values(\"timeStamp\"),\n",
        "    df_k8s.sort_values(\"timeStamp\"),\n",
        "    on=\"timeStamp\",\n",
        "    direction=\"nearest\"\n",
        ")\n"
      ],
      "metadata": {
        "id": "0CYRpo8XcBAq"
      },
      "execution_count": 20,
      "outputs": []
    },
    {
      "cell_type": "code",
      "source": [
        "print(\"Merged Data Columns:\", df_merged.columns.tolist())\n"
      ],
      "metadata": {
        "colab": {
          "base_uri": "https://localhost:8080/"
        },
        "id": "SUWsd2C0cDhD",
        "outputId": "3a4ecad4-52a0-430b-8442-d7397e579e4c"
      },
      "execution_count": 21,
      "outputs": [
        {
          "output_type": "stream",
          "name": "stdout",
          "text": [
            "Merged Data Columns: ['timeStamp', 'elapsed', 'label', 'responseCode', 'responseMessage', 'threadName', 'dataType', 'success', 'bytes', 'sentBytes', 'grpThreads', 'allThreads', 'URL', 'Latency', 'SampleCount', 'ErrorCount', 'Hostname', 'IdleTime', 'Connect', 'InitialPodsNumber_x', 'StressUpRate_x', 'Experiment_x', 'Type_x', 'Duration_x', 'CPUThreshold_x', 'CPU', 'PackRecv', 'PodsNumber', 'Duration_y', 'InitialPodsNumber_y', 'StressUpRate_y', 'Experiment_y', 'Type_y', 'CPUThreshold_y']\n"
          ]
        }
      ]
    },
    {
      "cell_type": "code",
      "source": [
        "# Drop the duplicate columns (_y)\n",
        "df_merged.drop(columns=[\"StressUpRate_y\", \"CPUThreshold_y\", \"InitialPodsNumber_y\", \"Experiment_y\", \"Type_y\", \"Duration_y\"], inplace=True, errors=\"ignore\")\n",
        "\n",
        "# Rename the _x columns to remove the suffix\n",
        "df_merged.rename(columns={\n",
        "    \"StressUpRate_x\": \"StressUpRate\",\n",
        "    \"CPUThreshold_x\": \"CPUThreshold\",\n",
        "    \"InitialPodsNumber_x\": \"InitialPodsNumber\",\n",
        "    \"Experiment_x\": \"Experiment\",\n",
        "    \"Type_x\": \"Type\",\n",
        "    \"Duration_x\": \"Duration\"\n",
        "}, inplace=True)\n",
        "\n",
        "# Select relevant columns for final dataset\n",
        "df_final = df_merged[[\n",
        "    \"timeStamp\", \"elapsed\", \"responseCode\", \"success\", \"bytes\",\n",
        "    \"CPU\", \"PackRecv\", \"PodsNumber\", \"StressUpRate\", \"CPUThreshold\"\n",
        "]]\n",
        "\n",
        "# Save the cleaned dataset\n",
        "df_final.to_csv(\"/content/processed_k8s_dataset.csv\", index=False)\n",
        "print(\"Processed dataset saved successfully!\")\n"
      ],
      "metadata": {
        "colab": {
          "base_uri": "https://localhost:8080/"
        },
        "id": "gzvY7dA8cFfM",
        "outputId": "6b57b5ca-4928-453e-8c9b-6e1aa924180c"
      },
      "execution_count": 26,
      "outputs": [
        {
          "output_type": "stream",
          "name": "stdout",
          "text": [
            "Processed dataset saved successfully!\n"
          ]
        }
      ]
    },
    {
      "cell_type": "code",
      "source": [
        "print(df_final.head())\n"
      ],
      "metadata": {
        "colab": {
          "base_uri": "https://localhost:8080/"
        },
        "id": "YgrfFkfic19B",
        "outputId": "bc9ffc23-a60b-4d9b-a6a8-1c58fe281460"
      },
      "execution_count": 27,
      "outputs": [
        {
          "output_type": "stream",
          "name": "stdout",
          "text": [
            "            timeStamp  elapsed  responseCode  success  bytes       CPU  \\\n",
            "0 2023-07-24 15:18:03      914         200.0     True    201  0.532484   \n",
            "1 2023-07-24 15:18:03      800         200.0     True    201  0.532484   \n",
            "2 2023-07-24 15:18:03       46         200.0     True    201  0.532484   \n",
            "3 2023-07-24 15:18:04      108         200.0     True    201  0.532484   \n",
            "4 2023-07-24 15:18:04        4         200.0     True    201  0.532484   \n",
            "\n",
            "   PackRecv  PodsNumber  StressUpRate  CPUThreshold  \n",
            "0  0.512426           1             5             0  \n",
            "1  0.512426           1             5             0  \n",
            "2  0.512426           1             5             0  \n",
            "3  0.512426           1             5             0  \n",
            "4  0.512426           1             5             0  \n"
          ]
        }
      ]
    },
    {
      "cell_type": "code",
      "source": [
        "import pandas as pd\n",
        "\n",
        "# Load the datasets\n",
        "benign_df = pd.read_csv(\"elastic_may2021_benign_data.csv\")\n",
        "malicious_df = pd.read_csv(\"elastic_may2021_malicious_data.csv\")\n",
        "data_df = pd.read_csv(\"elastic_may2022_data.csv\")\n",
        "\n",
        "# Print column names to inspect\n",
        "print(\"Benign Data Columns:\", benign_df.columns)\n",
        "print(\"Malicious Data Columns:\", malicious_df.columns)\n",
        "print(\"Data Columns:\", data_df.columns)\n"
      ],
      "metadata": {
        "colab": {
          "base_uri": "https://localhost:8080/"
        },
        "id": "CQPqBTVAfWuC",
        "outputId": "e58439d1-234e-4a58-fbe5-5210f079a894"
      },
      "execution_count": 31,
      "outputs": [
        {
          "output_type": "stream",
          "name": "stdout",
          "text": [
            "Benign Data Columns: Index(['_source_flow_id', '_source_flow_final', '_source_source_ip',\n",
            "       '_source_destination_ip', '_source_network_bytes',\n",
            "       '_source_network_transport', '_source_@timestamp',\n",
            "       '_source_event_duration', '_source_destination_port',\n",
            "       '_source_source_port', 'label'],\n",
            "      dtype='object')\n",
            "Malicious Data Columns: Index(['_source_flow_id', '_source_flow_final', '_source_source_ip',\n",
            "       '_source_destination_ip', '_source_network_bytes',\n",
            "       '_source_network_transport', '_source_@timestamp',\n",
            "       '_source_event_duration', '_source_destination_port',\n",
            "       '_source_source_port', 'label'],\n",
            "      dtype='object')\n",
            "Data Columns: Index(['_source_flow_id;_source_flow_final;_source_source_ip;_source_destination_ip;_source_network_bytes;_source_network_transport;_source_@timestamp;_source_event_duration;_source_destination_port;_source_source_port;_source_network_packets;label'], dtype='object')\n"
          ]
        }
      ]
    },
    {
      "cell_type": "code",
      "source": [
        "import pandas as pd\n",
        "\n",
        "# Load the \"Data\" file\n",
        "data_df = pd.read_csv(\"elastic_may2022_data.csv\", delimiter=\";\")  # Specify \";\" as separator\n",
        "\n",
        "print(\"Fixed Data Columns:\", data_df.columns)\n",
        "print(data_df.head())\n"
      ],
      "metadata": {
        "colab": {
          "base_uri": "https://localhost:8080/"
        },
        "id": "a9OhdTI1fbBl",
        "outputId": "a42ac9d5-f8f6-4338-a528-18c0d680b0de"
      },
      "execution_count": 33,
      "outputs": [
        {
          "output_type": "stream",
          "name": "stdout",
          "text": [
            "Fixed Data Columns: Index(['_source_flow_id', '_source_flow_final', '_source_source_ip',\n",
            "       '_source_destination_ip', '_source_network_bytes',\n",
            "       '_source_network_transport', '_source_@timestamp',\n",
            "       '_source_event_duration', '_source_destination_port',\n",
            "       '_source_source_port', '_source_network_packets', 'label'],\n",
            "      dtype='object')\n",
            "                           _source_flow_id  _source_flow_final  \\\n",
            "0  EAT/////AP//////CP8AAAEKAAIPwKj3BYUDAQg               False   \n",
            "1  EAT/////AP//////CP8AAAHAqFSXwKj3Fk6XVCQ               False   \n",
            "2  EAT/////AP//////CP8AAAHAqFSAwKj3BYYDAQg               False   \n",
            "3  EAT/////AP//////CP8AAAGsEAIKrBACDCsZxMs               False   \n",
            "4  EAT/////AP//////CP8AAAHAqFSXwKj3FmKXVCQ               False   \n",
            "\n",
            "  _source_source_ip _source_destination_ip  _source_network_bytes  \\\n",
            "0     95.180.199.26        244.121.253.144              476424919   \n",
            "1      95.180.199.6          95.180.91.120              158570149   \n",
            "2      95.180.91.98          95.180.199.26              855437751   \n",
            "3     16.154.254.17          16.154.254.20                 420028   \n",
            "4     95.180.91.120           95.180.199.6                2135040   \n",
            "\n",
            "  _source_network_transport        _source_@timestamp  _source_event_duration  \\\n",
            "0                       tcp  2022-05-04T14:37:10.271Z            509449510838   \n",
            "1                       tcp  2022-05-04T14:37:10.271Z            509446479326   \n",
            "2                       tcp  2022-05-04T14:37:10.271Z            509452160653   \n",
            "3                       tcp  2022-05-04T14:37:10.271Z            508846734927   \n",
            "4                       tcp  2022-05-04T14:37:10.271Z            509445366099   \n",
            "\n",
            "   _source_destination_port  _source_source_port  _source_network_packets  \\\n",
            "0                     901.0               2049.0                   163635   \n",
            "1                   38734.0               9300.0                    15604   \n",
            "2                    2049.0                902.0                   334165   \n",
            "3                   52164.0               6443.0                     1212   \n",
            "4                    9300.0              38754.0                     3176   \n",
            "\n",
            "    label  \n",
            "0  benign  \n",
            "1  benign  \n",
            "2  benign  \n",
            "3  benign  \n",
            "4  benign  \n"
          ]
        }
      ]
    },
    {
      "cell_type": "code",
      "source": [
        "# Load Benign & Malicious datasets\n",
        "benign_df = pd.read_csv(\"elastic_may2021_benign_data.csv\")\n",
        "malicious_df = pd.read_csv(\"elastic_may2021_malicious_data.csv\")\n",
        "\n",
        "# Concatenate all datasets\n",
        "moss_merged_df = pd.concat([benign_df, malicious_df, data_df], ignore_index=True)\n",
        "\n",
        "# Save the cleaned dataset\n",
        "moss_merged_df.to_csv(\"merged_moss_data.csv\", index=False)\n",
        "\n",
        "print(\"✅ Merged AssureMOSS dataset saved successfully!\")\n"
      ],
      "metadata": {
        "colab": {
          "base_uri": "https://localhost:8080/"
        },
        "id": "hhVQ4irqhCPl",
        "outputId": "1691c263-8022-4b48-92c5-50205eacddc5"
      },
      "execution_count": 34,
      "outputs": [
        {
          "output_type": "stream",
          "name": "stdout",
          "text": [
            "✅ Merged AssureMOSS dataset saved successfully!\n"
          ]
        }
      ]
    },
    {
      "cell_type": "code",
      "source": [
        "pip install pandas numpy faker\n"
      ],
      "metadata": {
        "colab": {
          "base_uri": "https://localhost:8080/"
        },
        "id": "vImrT-JYhtH1",
        "outputId": "614a67df-72f9-4006-e931-d2f530192cc0"
      },
      "execution_count": 35,
      "outputs": [
        {
          "output_type": "stream",
          "name": "stdout",
          "text": [
            "Requirement already satisfied: pandas in /usr/local/lib/python3.11/dist-packages (2.2.2)\n",
            "Requirement already satisfied: numpy in /usr/local/lib/python3.11/dist-packages (1.26.4)\n",
            "Collecting faker\n",
            "  Downloading faker-37.0.0-py3-none-any.whl.metadata (15 kB)\n",
            "Requirement already satisfied: python-dateutil>=2.8.2 in /usr/local/lib/python3.11/dist-packages (from pandas) (2.8.2)\n",
            "Requirement already satisfied: pytz>=2020.1 in /usr/local/lib/python3.11/dist-packages (from pandas) (2024.2)\n",
            "Requirement already satisfied: tzdata>=2022.7 in /usr/local/lib/python3.11/dist-packages (from pandas) (2025.1)\n",
            "Requirement already satisfied: six>=1.5 in /usr/local/lib/python3.11/dist-packages (from python-dateutil>=2.8.2->pandas) (1.17.0)\n",
            "Downloading faker-37.0.0-py3-none-any.whl (1.9 MB)\n",
            "\u001b[2K   \u001b[90m━━━━━━━━━━━━━━━━━━━━━━━━━━━━━━━━━━━━━━━━\u001b[0m \u001b[32m1.9/1.9 MB\u001b[0m \u001b[31m20.6 MB/s\u001b[0m eta \u001b[36m0:00:00\u001b[0m\n",
            "\u001b[?25hInstalling collected packages: faker\n",
            "Successfully installed faker-37.0.0\n"
          ]
        }
      ]
    },
    {
      "cell_type": "code",
      "source": [
        "import pandas as pd\n",
        "import numpy as np\n",
        "from faker import Faker\n",
        "import random\n",
        "\n",
        "# Initialize Faker for synthetic IPs\n",
        "fake = Faker()\n",
        "\n",
        "# Define simulation parameters\n",
        "NUM_SAMPLES = 5000  # Adjust for larger/smaller datasets\n",
        "FAILURE_TYPES = [\"PodCrash\", \"CPUHigh\", \"MemoryLeak\", \"NetworkLatency\", \"DiskPressure\"]\n",
        "NODES = [\"node-1\", \"node-2\", \"node-3\", \"node-4\", \"node-5\"]\n",
        "\n",
        "# Generate synthetic Kubernetes failure data\n",
        "data = {\n",
        "    \"timestamp\": pd.date_range(start=\"2025-01-01\", periods=NUM_SAMPLES, freq=\"T\"),\n",
        "    \"node\": np.random.choice(NODES, NUM_SAMPLES),\n",
        "    \"pod_name\": [f\"pod-{i}\" for i in range(NUM_SAMPLES)],\n",
        "    \"namespace\": np.random.choice([\"default\", \"kube-system\", \"production\"], NUM_SAMPLES),\n",
        "    \"failure_type\": np.random.choice(FAILURE_TYPES, NUM_SAMPLES, p=[0.2, 0.25, 0.25, 0.15, 0.15]),\n",
        "    \"cpu_usage\": np.random.uniform(0, 100, NUM_SAMPLES),\n",
        "    \"memory_usage\": np.random.uniform(0, 16, NUM_SAMPLES),  # GB\n",
        "    \"network_latency\": np.random.uniform(0, 500, NUM_SAMPLES),  # ms\n",
        "    \"source_ip\": [fake.ipv4() for _ in range(NUM_SAMPLES)],\n",
        "    \"destination_ip\": [fake.ipv4() for _ in range(NUM_SAMPLES)],\n",
        "    \"status\": np.random.choice([\"Recovered\", \"Ongoing\", \"Critical\"], NUM_SAMPLES, p=[0.6, 0.3, 0.1])\n",
        "}\n",
        "\n",
        "# Create DataFrame\n",
        "simulated_df = pd.DataFrame(data)\n",
        "\n",
        "# Save to CSV\n",
        "simulated_df.to_csv(\"simulated_k8s_failures.csv\", index=False)\n",
        "\n",
        "print(\"✅ Simulated Kubernetes failure dataset saved as 'simulated_k8s_failures.csv'.\")\n"
      ],
      "metadata": {
        "colab": {
          "base_uri": "https://localhost:8080/"
        },
        "id": "kPmtHKIJhxux",
        "outputId": "e7af6474-69d9-4e44-902c-bec62c806f66"
      },
      "execution_count": 36,
      "outputs": [
        {
          "output_type": "stream",
          "name": "stderr",
          "text": [
            "<ipython-input-36-527987764928>:16: FutureWarning: 'T' is deprecated and will be removed in a future version, please use 'min' instead.\n",
            "  \"timestamp\": pd.date_range(start=\"2025-01-01\", periods=NUM_SAMPLES, freq=\"T\"),\n"
          ]
        },
        {
          "output_type": "stream",
          "name": "stdout",
          "text": [
            "✅ Simulated Kubernetes failure dataset saved as 'simulated_k8s_failures.csv'.\n"
          ]
        }
      ]
    },
    {
      "cell_type": "code",
      "source": [
        "/content/simulated_k8s_failures.csv"
      ],
      "metadata": {
        "id": "AvA6U4nzi0Yj"
      },
      "execution_count": null,
      "outputs": []
    },
    {
      "cell_type": "code",
      "execution_count": 38,
      "metadata": {
        "colab": {
          "base_uri": "https://localhost:8080/"
        },
        "id": "TzBJFI4TimCt",
        "outputId": "1525fe7e-cf69-42ca-83af-0fdca157db0b"
      },
      "outputs": [
        {
          "output_type": "stream",
          "name": "stdout",
          "text": [
            "             timestamp    node pod_name   namespace  failure_type  cpu_usage  \\\n",
            "0  2025-01-01 00:00:00  node-5    pod-0     default  DiskPressure  88.059845   \n",
            "1  2025-01-01 00:01:00  node-1    pod-1  production       CPUHigh   0.072842   \n",
            "2  2025-01-01 00:02:00  node-1    pod-2     default      PodCrash  17.443240   \n",
            "3  2025-01-01 00:03:00  node-3    pod-3  production       CPUHigh  58.817619   \n",
            "4  2025-01-01 00:04:00  node-4    pod-4  production    MemoryLeak  46.992904   \n",
            "\n",
            "   memory_usage  network_latency      source_ip   destination_ip     status  \n",
            "0     12.621836        20.926611  193.172.43.15  179.255.186.207  Recovered  \n",
            "1     12.101612       146.511933   95.146.85.55     166.4.177.97  Recovered  \n",
            "2      9.174196       334.092657  195.253.46.28    34.167.27.192  Recovered  \n",
            "3     14.752103       169.867212  125.106.40.35   85.227.219.223    Ongoing  \n",
            "4     11.958055        61.501088  138.5.130.148  155.143.192.224  Recovered  \n",
            "\n",
            "Columns in the dataset:\n",
            " Index(['timestamp', 'node', 'pod_name', 'namespace', 'failure_type',\n",
            "       'cpu_usage', 'memory_usage', 'network_latency', 'source_ip',\n",
            "       'destination_ip', 'status'],\n",
            "      dtype='object')\n"
          ]
        }
      ],
      "source": [
        "import pandas as pd\n",
        "\n",
        "# Define the file path\n",
        "file_path = \"/content/simulated_k8s_failures.csv\"\n",
        "\n",
        "# Load the CSV file\n",
        "df_simulated = pd.read_csv(file_path)\n",
        "\n",
        "# Display the first few rows\n",
        "print(df_simulated.head())\n",
        "\n",
        "# Display column names\n",
        "print(\"\\nColumns in the dataset:\\n\", df_simulated.columns)\n"
      ]
    },
    {
      "cell_type": "code",
      "source": [
        "import pandas as pd\n",
        "\n",
        "# File paths (update paths if necessary)\n",
        "assuremoss_path = \"/content/merged_moss_data.csv\"\n",
        "k8s_path = \"/content/processed_k8s_dataset.csv\"\n",
        "simulated_path = \"/content/simulated_k8s_failures.csv\"\n",
        "\n",
        "# Load datasets\n",
        "df_assuremoss = pd.read_csv(assuremoss_path)\n",
        "df_k8s = pd.read_csv(k8s_path)\n",
        "df_simulated = pd.read_csv(simulated_path)\n"
      ],
      "metadata": {
        "id": "uz5sQzBNjGZO"
      },
      "execution_count": 40,
      "outputs": []
    },
    {
      "cell_type": "code",
      "source": [
        "df_assuremoss.rename(columns={\"_source_@timestamp\": \"timeStamp\"}, inplace=True)\n",
        "df_simulated.rename(columns={\"timestamp\": \"timeStamp\"}, inplace=True)\n"
      ],
      "metadata": {
        "id": "m1gabGdqjVHB"
      },
      "execution_count": 43,
      "outputs": []
    },
    {
      "cell_type": "code",
      "source": [
        "df_final = df_k8s.merge(df_assuremoss, on=\"timeStamp\", how=\"outer\")\n",
        "df_final = df_final.merge(df_simulated, on=\"timeStamp\", how=\"outer\")\n"
      ],
      "metadata": {
        "id": "8enpT_NWjiTw"
      },
      "execution_count": 44,
      "outputs": []
    },
    {
      "cell_type": "code",
      "source": [
        "final_path = \"final_merged_dataset.csv\"\n",
        "df_final.to_csv(final_path, index=False)\n",
        "print(f\"✅ Final merged dataset saved successfully at: {final_path}\")\n"
      ],
      "metadata": {
        "colab": {
          "base_uri": "https://localhost:8080/"
        },
        "id": "WJofNNzJjnNr",
        "outputId": "0d10ca56-13fb-4e65-d270-2b3409bb35cc"
      },
      "execution_count": 45,
      "outputs": [
        {
          "output_type": "stream",
          "name": "stdout",
          "text": [
            "✅ Final merged dataset saved successfully at: final_merged_dataset.csv\n"
          ]
        }
      ]
    },
    {
      "cell_type": "code",
      "source": [
        "print(df_final.isnull().sum())\n"
      ],
      "metadata": {
        "colab": {
          "base_uri": "https://localhost:8080/"
        },
        "id": "KjWW1ExIkGSZ",
        "outputId": "e1500c3d-7331-4333-ccce-abdfd7a55465"
      },
      "execution_count": 46,
      "outputs": [
        {
          "output_type": "stream",
          "name": "stdout",
          "text": [
            "timeStamp                          0\n",
            "elapsed                      4697496\n",
            "responseCode                 4797108\n",
            "success                      4697496\n",
            "bytes                        4697496\n",
            "CPU                          4697496\n",
            "PackRecv                     4697496\n",
            "PodsNumber                   4697496\n",
            "StressUpRate                 4697496\n",
            "CPUThreshold                 4697496\n",
            "_source_flow_id               508960\n",
            "_source_flow_final            508960\n",
            "_source_source_ip             508960\n",
            "_source_destination_ip        508960\n",
            "_source_network_bytes         508960\n",
            "_source_network_transport     514312\n",
            "_source_event_duration        508960\n",
            "_source_destination_port      515294\n",
            "_source_source_port           515294\n",
            "label                         508960\n",
            "_source_network_packets      4240410\n",
            "node                         5196456\n",
            "pod_name                     5196456\n",
            "namespace                    5196456\n",
            "failure_type                 5196456\n",
            "cpu_usage                    5196456\n",
            "memory_usage                 5196456\n",
            "network_latency              5196456\n",
            "source_ip                    5196456\n",
            "destination_ip               5196456\n",
            "status                       5196456\n",
            "dtype: int64\n"
          ]
        }
      ]
    },
    {
      "cell_type": "code",
      "source": [
        "print(df_final.dtypes)\n"
      ],
      "metadata": {
        "colab": {
          "base_uri": "https://localhost:8080/"
        },
        "id": "4WU8gh88kSs1",
        "outputId": "758de7b0-fa69-4e0b-ad84-2c84f0842373"
      },
      "execution_count": 47,
      "outputs": [
        {
          "output_type": "stream",
          "name": "stdout",
          "text": [
            "timeStamp                     object\n",
            "elapsed                      float64\n",
            "responseCode                 float64\n",
            "success                       object\n",
            "bytes                        float64\n",
            "CPU                          float64\n",
            "PackRecv                     float64\n",
            "PodsNumber                   float64\n",
            "StressUpRate                 float64\n",
            "CPUThreshold                 float64\n",
            "_source_flow_id               object\n",
            "_source_flow_final            object\n",
            "_source_source_ip             object\n",
            "_source_destination_ip        object\n",
            "_source_network_bytes        float64\n",
            "_source_network_transport     object\n",
            "_source_event_duration       float64\n",
            "_source_destination_port     float64\n",
            "_source_source_port          float64\n",
            "label                         object\n",
            "_source_network_packets      float64\n",
            "node                          object\n",
            "pod_name                      object\n",
            "namespace                     object\n",
            "failure_type                  object\n",
            "cpu_usage                    float64\n",
            "memory_usage                 float64\n",
            "network_latency              float64\n",
            "source_ip                     object\n",
            "destination_ip                object\n",
            "status                        object\n",
            "dtype: object\n"
          ]
        }
      ]
    },
    {
      "cell_type": "code",
      "source": [
        "from google.colab import drive\n",
        "drive.mount('/content/drive')\n"
      ],
      "metadata": {
        "colab": {
          "base_uri": "https://localhost:8080/"
        },
        "id": "ev8IrrOVllXM",
        "outputId": "6c0a02ff-4d02-4310-fc8e-070635307fac"
      },
      "execution_count": 49,
      "outputs": [
        {
          "output_type": "stream",
          "name": "stdout",
          "text": [
            "Mounted at /content/drive\n"
          ]
        }
      ]
    }
  ]
}